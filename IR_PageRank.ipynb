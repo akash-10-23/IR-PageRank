{
  "nbformat": 4,
  "nbformat_minor": 0,
  "metadata": {
    "colab": {
      "name": "IR_PageRank.ipynb",
      "provenance": [],
      "collapsed_sections": []
    },
    "kernelspec": {
      "name": "python3",
      "display_name": "Python 3"
    },
    "language_info": {
      "name": "python"
    }
  },
  "cells": [
    {
      "cell_type": "code",
      "metadata": {
        "id": "64h47VkCCU93"
      },
      "source": [
        "from google.colab import drive\n",
        "import numpy as np\n",
        "from scipy.sparse import dok_matrix\n",
        "import networkx as nx"
      ],
      "execution_count": 1,
      "outputs": []
    },
    {
      "cell_type": "code",
      "metadata": {
        "colab": {
          "base_uri": "https://localhost:8080/"
        },
        "id": "W4NUJoiBFVQT",
        "outputId": "c2e6c50d-408b-40d2-9a96-77b005e2a786"
      },
      "source": [
        "drive.mount('/content/drive')"
      ],
      "execution_count": 2,
      "outputs": [
        {
          "output_type": "stream",
          "name": "stdout",
          "text": [
            "Mounted at /content/drive\n"
          ]
        }
      ]
    },
    {
      "cell_type": "code",
      "metadata": {
        "colab": {
          "base_uri": "https://localhost:8080/"
        },
        "id": "2-YDsIwTFh5H",
        "outputId": "40bb5d11-3675-4e9f-fc8f-74c3eab56287"
      },
      "source": [
        "%cd /content/drive/MyDrive/Stanford-graphics/\n",
        "%ls"
      ],
      "execution_count": 3,
      "outputs": [
        {
          "output_type": "stream",
          "name": "stdout",
          "text": [
            "/content/drive/MyDrive/Stanford-graphics\n",
            "web-Stanford.txt\n"
          ]
        }
      ]
    },
    {
      "cell_type": "code",
      "metadata": {
        "colab": {
          "base_uri": "https://localhost:8080/"
        },
        "id": "Zh96GNE4Igpj",
        "outputId": "0243c0b0-7d69-46c1-8b66-0314ef1127cb"
      },
      "source": [
        "# for the web-Stanford.txt file , calculation of the page-rank\n",
        "G = nx.DiGraph()\n",
        "dims = 281903 #this is the total number of nodes we have in the file\n",
        "\n",
        "# creating a sparce matrix for the nodes representation \n",
        "sparce_matrix = dok_matrix((dims, dims), dtype=np.float32)\n",
        "D = np.zeros(dims)\n",
        "with open('web-Stanford.txt', 'r') as f:\n",
        "  # skipping first 4 comments, as it contain the details not required for PageRank calculation\n",
        "  for i in range(4):\n",
        "    next(f)\n",
        "  for i in f:\n",
        "    start_node, end_node = list(map(int, i.split()))\n",
        "    G.add_edge(start_node, end_node)\n",
        "    D[start_node-1] = D[start_node-1] + 1\n",
        "with open('web-Stanford.txt', 'r') as f:\n",
        "  # skipping first 4 comments, as it contain the details not required for PageRank calculation\n",
        "  for i in range(4):\n",
        "    next(f)\n",
        "  for i in f:\n",
        "    start_node, end_node = list(map(int, i.split()))\n",
        "    sparce_matrix[start_node-1, end_node-1] = 1/D[start_node-1]\n",
        "sparce_matrix = sparce_matrix.tocsr()\n",
        "\n",
        "print(sparce_matrix)"
      ],
      "execution_count": 4,
      "outputs": [
        {
          "output_type": "stream",
          "name": "stdout",
          "text": [
            "  (0, 6547)\t0.5\n",
            "  (0, 15408)\t0.5\n",
            "  (1, 17793)\t0.032258064\n",
            "  (1, 25201)\t0.032258064\n",
            "  (1, 53624)\t0.032258064\n",
            "  (1, 54581)\t0.032258064\n",
            "  (1, 64929)\t0.032258064\n",
            "  (1, 73763)\t0.032258064\n",
            "  (1, 84476)\t0.032258064\n",
            "  (1, 98627)\t0.032258064\n",
            "  (1, 100192)\t0.032258064\n",
            "  (1, 102354)\t0.032258064\n",
            "  (1, 105317)\t0.032258064\n",
            "  (1, 105729)\t0.032258064\n",
            "  (1, 115925)\t0.032258064\n",
            "  (1, 140863)\t0.032258064\n",
            "  (1, 163549)\t0.032258064\n",
            "  (1, 164598)\t0.032258064\n",
            "  (1, 175798)\t0.032258064\n",
            "  (1, 178641)\t0.032258064\n",
            "  (1, 181713)\t0.032258064\n",
            "  (1, 190452)\t0.032258064\n",
            "  (1, 204188)\t0.032258064\n",
            "  (1, 204603)\t0.032258064\n",
            "  (1, 210869)\t0.032258064\n",
            "  :\t:\n",
            "  (281897, 166892)\t0.14285715\n",
            "  (281897, 191218)\t0.14285715\n",
            "  (281897, 231578)\t0.14285715\n",
            "  (281897, 266495)\t0.14285715\n",
            "  (281897, 275194)\t0.14285715\n",
            "  (281898, 30563)\t0.33333334\n",
            "  (281898, 266497)\t0.33333334\n",
            "  (281898, 275193)\t0.33333334\n",
            "  (281899, 186749)\t0.5\n",
            "  (281899, 225871)\t0.5\n",
            "  (281900, 203841)\t1.0\n",
            "  (281901, 68136)\t0.14285715\n",
            "  (281901, 119657)\t0.14285715\n",
            "  (281901, 166892)\t0.14285715\n",
            "  (281901, 168702)\t0.14285715\n",
            "  (281901, 180770)\t0.14285715\n",
            "  (281901, 266503)\t0.14285715\n",
            "  (281901, 275188)\t0.14285715\n",
            "  (281902, 44102)\t0.14285715\n",
            "  (281902, 56087)\t0.14285715\n",
            "  (281902, 90590)\t0.14285715\n",
            "  (281902, 94439)\t0.14285715\n",
            "  (281902, 216687)\t0.14285715\n",
            "  (281902, 256538)\t0.14285715\n",
            "  (281902, 260898)\t0.14285715\n"
          ]
        }
      ]
    },
    {
      "cell_type": "code",
      "metadata": {
        "colab": {
          "base_uri": "https://localhost:8080/"
        },
        "id": "YMGDvRuIMFDN",
        "outputId": "62367ed7-e3b1-48e2-ff18-9dd4e4ab56b7"
      },
      "source": [
        "# we have set default dangling factor as 0.85 here and this function will return the ranks of the documents\n",
        "# also we are printing the value of the no. of iterations and v\n",
        "def get_ranks(H, v, N, dangling_factor=0.85):\n",
        "  iters = 0\n",
        "  while True:\n",
        "    new_v = dangling_factor * (H @ v) + (1-dangling_factor)/N\n",
        "    # print(new_v)\n",
        "    iters+=1\n",
        "    if np.allclose(new_v, v):\n",
        "      break\n",
        "    v = new_v\n",
        "  print(iters)\n",
        "  print(v)\n",
        "  return v\n",
        "v = np.ones(dims)/dims\n",
        "z = get_ranks(sparce_matrix, v, dims)"
      ],
      "execution_count": 5,
      "outputs": [
        {
          "output_type": "stream",
          "name": "stdout",
          "text": [
            "37\n",
            "[3.54731947e-06 3.54715507e-06 3.48797011e-06 ... 3.54665501e-06\n",
            " 3.54682833e-06 3.53805941e-06]\n"
          ]
        }
      ]
    },
    {
      "cell_type": "code",
      "metadata": {
        "colab": {
          "base_uri": "https://localhost:8080/"
        },
        "id": "t4LxToN5NYoA",
        "outputId": "163aedd6-a8fb-4fe5-e048-c7865f837eee"
      },
      "source": [
        "#printing the sum of all probabilities to check whether it is near to or equal to 1 or not\n",
        "np.sum(z)"
      ],
      "execution_count": 6,
      "outputs": [
        {
          "output_type": "execute_result",
          "data": {
            "text/plain": [
              "0.997621010253663"
            ]
          },
          "metadata": {},
          "execution_count": 6
        }
      ]
    }
  ]
}